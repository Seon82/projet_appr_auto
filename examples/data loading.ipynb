{
 "cells": [
  {
   "cell_type": "code",
   "execution_count": 1,
   "id": "ebc7c7ea",
   "metadata": {},
   "outputs": [],
   "source": [
    "from airbnb_prices import DataPipeline"
   ]
  },
  {
   "cell_type": "markdown",
   "id": "cc9a6e80",
   "metadata": {},
   "source": [
    "### DataPipeline"
   ]
  },
  {
   "cell_type": "markdown",
   "id": "cba123df",
   "metadata": {},
   "source": [
    "The `DataPipeline` object offers a high-level wrapper to manager the entire data engineering pipeline. It is controlled by a configuration file, in this example `./config.json`."
   ]
  },
  {
   "cell_type": "code",
   "execution_count": 2,
   "id": "d7b64784",
   "metadata": {},
   "outputs": [],
   "source": [
    "pipeline = DataPipeline.from_file(\"../data/train_airbnb_berlin.csv\", \"./config.json\")"
   ]
  },
  {
   "cell_type": "markdown",
   "id": "3c6700f4",
   "metadata": {},
   "source": [
    "`pipeline.run()` is in charge of data preprocessing. It will: \n",
    "* Replace NaNs\n",
    "* Engineer new features\n",
    "* One-hot encode categoricals\n",
    "* Standardize selected features\n",
    "* Drop unused features"
   ]
  },
  {
   "cell_type": "code",
   "execution_count": 3,
   "id": "012eb2b8",
   "metadata": {},
   "outputs": [],
   "source": [
    "pipeline.run()"
   ]
  },
  {
   "cell_type": "markdown",
   "id": "ae10614a",
   "metadata": {},
   "source": [
    "Training, validation and test data can be easilya ccessed:"
   ]
  },
  {
   "cell_type": "code",
   "execution_count": 11,
   "id": "c7bc0d65",
   "metadata": {},
   "outputs": [],
   "source": [
    "X_train, y_train = pipeline.train_data"
   ]
  }
 ],
 "metadata": {
  "kernelspec": {
   "display_name": "airbnb",
   "language": "python",
   "name": "airbnb"
  },
  "language_info": {
   "codemirror_mode": {
    "name": "ipython",
    "version": 3
   },
   "file_extension": ".py",
   "mimetype": "text/x-python",
   "name": "python",
   "nbconvert_exporter": "python",
   "pygments_lexer": "ipython3",
   "version": "3.10.4"
  }
 },
 "nbformat": 4,
 "nbformat_minor": 5
}
