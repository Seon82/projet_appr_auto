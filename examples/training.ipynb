{
 "cells": [
  {
   "cell_type": "code",
   "execution_count": null,
   "id": "ebc7c7ea",
   "metadata": {},
   "outputs": [],
   "source": [
    "import matplotlib.pyplot as plt\n",
    "import numpy as np\n",
    "import pandas as pd\n",
    "import xgboost as xgb\n",
    "from sklearn.metrics import mean_squared_error\n",
    "\n",
    "from airbnb_prices import DataPipeline\n",
    "from airbnb_prices.eval import train_eval"
   ]
  },
  {
   "cell_type": "markdown",
   "id": "cc9a6e80",
   "metadata": {},
   "source": [
    "### DataPipeline"
   ]
  },
  {
   "cell_type": "markdown",
   "id": "cba123df",
   "metadata": {},
   "source": [
    "The `DataPipeline` object offers a high-level wrapper to manager the entire data engineering pipeline. It is controlled by a configuration file, in this example `./config.json`."
   ]
  },
  {
   "cell_type": "code",
   "execution_count": null,
   "id": "d7b64784",
   "metadata": {},
   "outputs": [],
   "source": [
    "pipeline = DataPipeline.from_file(\"../data/train_airbnb_berlin.csv\", \"./config.json\")"
   ]
  },
  {
   "cell_type": "markdown",
   "id": "3c6700f4",
   "metadata": {},
   "source": [
    "`pipeline.run()` is in charge of data preprocessing. It will: \n",
    "* Replace NaNs\n",
    "* Engineer new features\n",
    "* One-hot encode categoricals\n",
    "* Standardize selected features\n",
    "* Drop unused features"
   ]
  },
  {
   "cell_type": "code",
   "execution_count": null,
   "id": "012eb2b8",
   "metadata": {},
   "outputs": [],
   "source": [
    "pipeline.run()"
   ]
  },
  {
   "cell_type": "markdown",
   "id": "ae10614a",
   "metadata": {},
   "source": [
    "Training, validation and test data can be easily accessed:"
   ]
  },
  {
   "cell_type": "code",
   "execution_count": null,
   "id": "c7bc0d65",
   "metadata": {},
   "outputs": [],
   "source": [
    "X_train, y_train = pipeline.train_data\n",
    "X_val, y_val = pipeline.val_data\n",
    "\n",
    "print(X_train.shape, y_train.shape)\n",
    "print(X_val.shape, y_val.shape)\n",
    "\n",
    "X_val"
   ]
  },
  {
   "cell_type": "markdown",
   "id": "44735a4d",
   "metadata": {},
   "source": [
    "# Model"
   ]
  },
  {
   "cell_type": "code",
   "execution_count": null,
   "id": "aa0acb9f",
   "metadata": {},
   "outputs": [],
   "source": [
    "model = xgb.XGBRegressor()"
   ]
  },
  {
   "cell_type": "markdown",
   "id": "24a543fa",
   "metadata": {},
   "source": [
    "## Training"
   ]
  },
  {
   "cell_type": "code",
   "execution_count": null,
   "id": "c95cf7ad",
   "metadata": {},
   "outputs": [],
   "source": [
    "model, train_score, val_score = train_eval.train_eval_once(\n",
    "    model=model, x_train=X_train, y_train=y_train, x_test=X_val, y_test=y_val\n",
    ")\n",
    "print(\"RMSE score on train set: {}\".format(train_score))\n",
    "print(\"RMSE score on val set: {}\".format(val_score))"
   ]
  },
  {
   "cell_type": "markdown",
   "id": "c0e8772f",
   "metadata": {},
   "source": [
    "## Visualization"
   ]
  },
  {
   "cell_type": "markdown",
   "id": "968c4a85",
   "metadata": {},
   "source": [
    "### Feature Importance"
   ]
  },
  {
   "cell_type": "code",
   "execution_count": null,
   "id": "b16eb3fc",
   "metadata": {},
   "outputs": [],
   "source": [
    "xgb.plot_importance(model, importance_type=\"gain\", show_values=False)\n",
    "plt.grid(False)"
   ]
  },
  {
   "cell_type": "markdown",
   "id": "ff46ba70",
   "metadata": {},
   "source": [
    "### Tree Visualization"
   ]
  },
  {
   "cell_type": "code",
   "execution_count": null,
   "id": "59c7aea2",
   "metadata": {},
   "outputs": [],
   "source": [
    "fig, ax = plt.subplots()\n",
    "ax.set_title(\"Tree #4\")\n",
    "xgb.plot_tree(model, num_trees=3, ax=ax, rankdir=\"LR\")"
   ]
  },
  {
   "cell_type": "markdown",
   "id": "f90b289b",
   "metadata": {},
   "source": [
    "# Testing"
   ]
  },
  {
   "cell_type": "code",
   "execution_count": null,
   "id": "52753503",
   "metadata": {},
   "outputs": [],
   "source": [
    "x_test, y_test = pipeline.test_data\n",
    "\n",
    "y_pred = model.predict(x_test)\n",
    "test_score = np.sqrt(mean_squared_error(y_test, y_pred))\n",
    "print(\" RMSE score on test set: {}\".format(test_score))"
   ]
  },
  {
   "cell_type": "markdown",
   "id": "535b061e",
   "metadata": {},
   "source": [
    "### Visualize relative error"
   ]
  },
  {
   "cell_type": "code",
   "execution_count": null,
   "id": "ef627194",
   "metadata": {},
   "outputs": [],
   "source": [
    "comparaison = pd.DataFrame()\n",
    "y_test = y_test.reset_index()[\"Price\"]\n",
    "comparaison[\"Prediction\"] = y_pred\n",
    "comparaison[\"Real Value\"] = y_test\n",
    "comparaison[\"Error (%)\"] = (\n",
    "    abs(comparaison[\"Prediction\"] - comparaison[\"Real Value\"]) / comparaison[\"Real Value\"] * 100\n",
    ")\n",
    "comparaison.sort_values(by=\"Error (%)\", inplace=True)\n",
    "\n",
    "comparaison"
   ]
  },
  {
   "cell_type": "code",
   "execution_count": null,
   "id": "8114db49",
   "metadata": {},
   "outputs": [],
   "source": [
    "from matplotlib.ticker import AutoMinorLocator, MultipleLocator\n",
    "\n",
    "fig = plt.figure(figsize=(15, 7.5))\n",
    "fig.suptitle(\"Relative and Cumulative Error of XGBoost on the Testing set\")\n",
    "\n",
    "ax = fig.subplots(1, 1)\n",
    "\n",
    "comparaison[\"Error (%)\"].hist(bins=105, ax=ax)\n",
    "ax.set_xlabel(\"Error (%)\")\n",
    "ax.set_ylabel(\"Number of predictions\")\n",
    "\n",
    "ax.set_xlim(0, 525)\n",
    "ax.xaxis.set_major_locator(MultipleLocator(25))\n",
    "ax.xaxis.set_minor_locator(AutoMinorLocator(5))\n",
    "\n",
    "ax.set_ylim(0, 250)\n",
    "ax.yaxis.set_major_locator(MultipleLocator(25))\n",
    "ax.yaxis.set_minor_locator(AutoMinorLocator(5))\n",
    "\n",
    "ax.xaxis.grid(which=\"major\", color=\"#CCCCCC\", linestyle=\"-\")\n",
    "ax.xaxis.grid(which=\"minor\", color=\"#CCCCCC\", linestyle=\"--\")\n",
    "\n",
    "ax = ax.twinx()\n",
    "comparaison[\"Error (%)\"].hist(\n",
    "    bins=105, ax=ax, cumulative=True, density=True, histtype=\"step\", color=\"orange\"\n",
    ")\n",
    "ax.set_xlabel(\"Error (%)\")\n",
    "ax.set_ylabel(\"Cumulative density\")\n",
    "\n",
    "ax.set_ylim(0, 1)\n",
    "ax.yaxis.set_major_locator(MultipleLocator(0.1))\n",
    "ax.yaxis.set_minor_locator(AutoMinorLocator(0.05))"
   ]
  }
 ],
 "metadata": {
  "kernelspec": {
   "display_name": "Python 3.10.6 ('appr_auto')",
   "language": "python",
   "name": "python3"
  },
  "language_info": {
   "codemirror_mode": {
    "name": "ipython",
    "version": 3
   },
   "file_extension": ".py",
   "mimetype": "text/x-python",
   "name": "python",
   "nbconvert_exporter": "python",
   "pygments_lexer": "ipython3",
   "version": "3.10.6"
  },
  "vscode": {
   "interpreter": {
    "hash": "4762245caef463b61e87ae64f9fdf14baba456e6e48da2e33579a7edf44501be"
   }
  }
 },
 "nbformat": 4,
 "nbformat_minor": 5
}
